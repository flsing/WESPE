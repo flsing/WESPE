{
 "cells": [
  {
   "cell_type": "markdown",
   "metadata": {},
   "source": [
    "# WESPE"
   ]
  },
  {
   "cell_type": "markdown",
   "metadata": {},
   "source": [
    "**Course:** CSI 5139 - Convolutional Neural Networks in Computer Vision <br>\n",
    "**Instructor:** Dr. Jochen Lang <br>\n",
    "**Done By:** Felix Singerman - 7970742, Ribash Kureja -  <br>\n",
    "**Date:** Dec. 19, 2018 <br>"
   ]
  },
  {
   "cell_type": "markdown",
   "metadata": {},
   "source": [
    "Imports we will need"
   ]
  },
  {
   "cell_type": "code",
   "execution_count": 17,
   "metadata": {},
   "outputs": [],
   "source": [
    "%matplotlib inline\n",
    "\n",
    "import os\n",
    "from glob import glob\n",
    "\n",
    "import numpy as np\n",
    "import matplotlib.pyplot as plt\n",
    "\n",
    "from keras.layers import Dense, Dropout, Activation, Flatten, BatchNormalization, Conv2D, GlobalAveragePooling2D\n",
    "from keras.models import Model, load_model, Sequential\n",
    "from tensorflow import set_random_seed\n",
    "from keras.optimizers import Adam, SGD\n",
    "from keras.callbacks import EarlyStopping\n",
    "import tensorflow as tf\n",
    "\n",
    "from sklearn.metrics import accuracy_score, f1_score, precision_score, recall_score\n",
    "\n",
    "from utils import *\n",
    "from vgg import * "
   ]
  },
  {
   "cell_type": "code",
   "execution_count": 18,
   "metadata": {},
   "outputs": [],
   "source": [
    "# Fix seeds for reproducibility\n",
    "np.random.seed(1921)\n",
    "set_random_seed(1921)"
   ]
  },
  {
   "cell_type": "markdown",
   "metadata": {},
   "source": [
    "# Models"
   ]
  },
  {
   "cell_type": "markdown",
   "metadata": {},
   "source": [
    "We build the main GAN of the architecture. "
   ]
  },
  {
   "cell_type": "code",
   "execution_count": 19,
   "metadata": {},
   "outputs": [],
   "source": [
    "\n",
    "def resblock(feature_in, num):\n",
    "    model = Sequential()\n",
    "    model.add(Conv2D(feature_in, 64, 3, padding = 'SAME', strides = 1,kernel_initializer = tf.contrib.layers.xavier_initializer() ))\n",
    "    model.add(Activation('relu'))\n",
    "    model.add(Conv2D(64, 3, padding = 'SAME', strides = 1,kernel_initializer = tf.contrib.layers.xavier_initializer() ))\n",
    "    model.add(Activation('relu'))\n",
    "    return model + feature_in"
   ]
  },
  {
   "cell_type": "code",
   "execution_count": 20,
   "metadata": {},
   "outputs": [],
   "source": [
    "def discriminator_network(image, var_scope = 'discriminator', preprocess = 'gray'):\n",
    "    model = Sequential()\n",
    "    with tf.variable_scope(var_scope, reuse = tf.AUTO_REUSE):\n",
    "        if preprocess == 'gray':\n",
    "            #convert to grayscale image\n",
    "            print(\"Discriminator-texture\")\n",
    "            image_processed = tf.image.rgb_to_grayscale(image)\n",
    "        elif preprocess == 'blur':\n",
    "            print(\"Discriminator-color (blur)\")\n",
    "            image_processed = gaussian_blur(image)\n",
    "        else:\n",
    "            print(\"Discriminator-color (none)\")\n",
    "            image_processed = image\n",
    "            \n",
    "        model = Sequential()\n",
    "        # conv layer 1 \n",
    "        model.add(Conv2D(image_processed, 48, 11, strides = 4, padding = 'SAME', name = 'CONV_1', kernel_initializer = tf.contrib.layers.xavier_initializer()))\n",
    "        model.add(LeakyReLU(alpha=.001))\n",
    "            \n",
    "        # conv layer 2\n",
    "        model.add(Conv2D( 128, 5, strides = 2, padding = 'SAME', name = 'CONV_2', kernel_initializer = tf.contrib.layers.xavier_initializer()))\n",
    "        model.add(BatchNormalization())\n",
    "        model.add(LeakyReLU(alpha=.001))\n",
    "            \n",
    "        # conv layer 3\n",
    "        model.add(Conv2D( 192, 3, strides = 1, padding = 'SAME', name = 'CONV_3', kernel_initializer = tf.contrib.layers.xavier_initializer())) \n",
    "        model.add(BatchNormalization())\n",
    "        model.add(LeakyReLU(alpha=.001))\n",
    "            \n",
    "        # conv layer 4\n",
    "        model.add(Conv2D( 192, 3, strides = 1, padding = 'SAME', name = 'CONV_4', kernel_initializer = tf.contrib.layers.xavier_initializer()))           \n",
    "        model.add(BatchNormalization())\n",
    "        model.add(LeakyReLU(alpha=.001))\n",
    "            \n",
    "        # conv layer 5\n",
    "        model.add(Conv2D( 128, 3, strides = 2, padding = 'SAME', name = 'CONV_5', kernel_initializer = tf.contrib.layers.xavier_initializer()))                   \n",
    "        model.add(BatchNormalization())\n",
    "        model.add(LeakyReLU(alpha=.001))\n",
    "            \n",
    "        # FC layer 1\n",
    "        model.add(Flatten())        \n",
    "        model.add(Dense(units = 1024)) \n",
    "        model.add(LeakyReLU(alpha=.001))\n",
    "            \n",
    "        # FC layer 2\n",
    "        logits = tf.layers.dense(model, units = 1, activation = None)\n",
    "        probability = tf.nn.sigmoid(logits)\n",
    "    return logits, probability"
   ]
  },
  {
   "cell_type": "code",
   "execution_count": 21,
   "metadata": {},
   "outputs": [],
   "source": [
    "def generator_network(image, var_scope = 'generator'):\n",
    "    with tf.variable_scope(var_scope, reuse=tf.AUTO_REUSE):\n",
    "        \n",
    "        # conv. layer before residual blocks \n",
    "        b1_in = tf.layers.conv2d(image, 64, 9, strides = 1, padding = 'SAME', name = 'CONV_1', kernel_initializer = tf.contrib.layers.xavier_initializer(), reuse=tf.AUTO_REUSE)\n",
    "        b1_in = tf.nn.relu(b1_in)\n",
    "            \n",
    "        # residual blocks\n",
    "        b1_out = resblock(b1_in, 1)\n",
    "        b2_out = resblock(b1_out, 2)\n",
    "        b3_out = resblock(b2_out, 3)\n",
    "        b4_out = resblock(b3_out, 4)\n",
    "            \n",
    "        # conv. layers after residual blocks\n",
    "        temp = tf.layers.conv2d(b4_out, 64, 3, strides = 1, padding = 'SAME', name = 'CONV_2', kernel_initializer = tf.contrib.layers.xavier_initializer(), reuse=tf.AUTO_REUSE)\n",
    "        temp = tf.nn.relu(temp)\n",
    "        temp = tf.layers.conv2d(temp, 64, 3, strides = 1, padding = 'SAME', name = 'CONV_3', kernel_initializer = tf.contrib.layers.xavier_initializer(), reuse=tf.AUTO_REUSE)\n",
    "        temp = tf.nn.relu(temp)\n",
    "        temp = tf.layers.conv2d(temp, 64, 3, strides = 1, padding = 'SAME', name = 'CONV_4', kernel_initializer = tf.contrib.layers.xavier_initializer(), reuse=tf.AUTO_REUSE)\n",
    "        temp = tf.nn.relu(temp)\n",
    "        temp = tf.layers.conv2d(temp, 3, 1, strides = 1, padding = 'SAME', name = 'CONV_5', kernel_initializer = tf.contrib.layers.xavier_initializer(), reuse=tf.AUTO_REUSE)\n",
    "        return temp"
   ]
  },
  {
   "cell_type": "code",
   "execution_count": null,
   "metadata": {},
   "outputs": [],
   "source": []
  }
 ],
 "metadata": {
  "kernelspec": {
   "display_name": "Python 3",
   "language": "python",
   "name": "python3"
  },
  "language_info": {
   "codemirror_mode": {
    "name": "ipython",
    "version": 3
   },
   "file_extension": ".py",
   "mimetype": "text/x-python",
   "name": "python",
   "nbconvert_exporter": "python",
   "pygments_lexer": "ipython3",
   "version": "3.6.4"
  }
 },
 "nbformat": 4,
 "nbformat_minor": 2
}
